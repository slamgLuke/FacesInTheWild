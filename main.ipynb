{
 "cells": [
  {
   "cell_type": "markdown",
   "id": "78b86c8a-5af2-47c6-9959-0fc946972304",
   "metadata": {},
   "source": [
    "# **Proyecto 4: Faces in The Wild**\n",
    "---\n",
    "\n",
    "**Integrantes**:\n",
    "- Lucas Carranza\n",
    "- David Herencia\n",
    "- Kalos Lazo\n",
    "- Lenin Chavez"
   ]
  },
  {
   "cell_type": "markdown",
   "id": "55261447-ecfa-447b-a396-76dd29ba3b46",
   "metadata": {},
   "source": [
    "---\n",
    "\n",
    "## **1. Librerías**"
   ]
  },
  {
   "cell_type": "code",
   "execution_count": 13,
   "id": "6485e51d-0459-4c97-b926-20febde9289c",
   "metadata": {},
   "outputs": [],
   "source": [
    "import numpy as np\n",
    "import pandas as pd\n",
    "import torch\n",
    "import torch.nn as nn\n",
    "import torch.optim as optim\n",
    "import matplotlib.pyplot as plt\n",
    "import torchvision\n",
    "import math\n",
    "\n",
    "from PIL import Image\n",
    "from torch.optim.lr_scheduler import StepLR\n",
    "from torch.utils.data import Dataset, DataLoader, random_split, SubsetRandomSampler\n",
    "from torchvision import transforms, datasets"
   ]
  },
  {
   "cell_type": "markdown",
   "id": "b1f97d76-9753-45c3-adc0-eebd49f5cb9c",
   "metadata": {},
   "source": [
    "---\n",
    "## **2. Configuración de cuda**"
   ]
  },
  {
   "cell_type": "code",
   "execution_count": 14,
   "id": "9446caa6-c17a-4732-8905-35403d8a3159",
   "metadata": {},
   "outputs": [
    {
     "name": "stdout",
     "output_type": "stream",
     "text": [
      "Device: cpu\n"
     ]
    }
   ],
   "source": [
    "device = torch.device('cuda:0' if torch.cuda.is_available() else 'cpu')\n",
    "\n",
    "print(f\"Device: {device}\")"
   ]
  },
  {
   "cell_type": "markdown",
   "id": "04e74421-0cd6-49f7-93ff-3507895f7acf",
   "metadata": {},
   "source": [
    "---\n",
    "## **3. Funciones generales**"
   ]
  },
  {
   "cell_type": "markdown",
   "id": "c8c4d89b-170c-4460-bf6c-a01f8fd3a784",
   "metadata": {},
   "source": [
    "A continuación se define funciones generales encapsuladas en clases de ser necesario para mejorar la eficiencia del desarrollo de nuestro modelo, por ejemplo `ImageHandler` es una clase que alberga clases para poder interactuar con las imagenes de forma sencilla."
   ]
  },
  {
   "cell_type": "code",
   "execution_count": 56,
   "id": "c5e80462-aa41-4ae5-87f8-c65aba21ee2c",
   "metadata": {},
   "outputs": [],
   "source": [
    "class ImageHandler:\n",
    "    def __init__(self, image_path = \"cropped_faces\"):\n",
    "        self.image_path = image_path\n",
    "\n",
    "    def load_img(self, img_id):\n",
    "        path = f\"{self.image_path}/{img_id}.png\"\n",
    "        return Image.open(path)\n",
    "\n",
    "    def plot_imgs(self, imgs, size = 3):\n",
    "        img_number = imgs.shape[0]\n",
    "        rows = cols = math.ceil(np.sqrt(img_number))\n",
    "        fig = plt.figure(figsize=(rows*size, cols*size))\n",
    "        for i in range(img_number):\n",
    "            fig.add_subplot(rows, cols, i+1)\n",
    "            plt.imshow(imgs[i])\n",
    "            plt.axis('off')\n",
    "        plt.show()\n",
    "\n",
    "    def visualize_samples(self, loader, num_samples = 5, size = 3):\n",
    "        rows = cols = math.ceil(np.sqrt(num_samples))\n",
    "        fig = plt.figure(figsize = (rows*size, cols*size))\n",
    "        for images1, images2, labels in loader:\n",
    "            for i in range(num_samples):\n",
    "                plt.subplot(rows, cols, i+1)\n",
    "                image = images1[i].permute(1, 2, 0).cpu().numpy()  # Change (C, H, W) to (H, W, C) and convert to numpy array\n",
    "                plt.imshow(image)\n",
    "                plt.axis('off')\n",
    "            break\n",
    "        plt.show()"
   ]
  },
  {
   "cell_type": "markdown",
   "id": "588c1144-a810-4e4f-ad1f-4d3d183b81a6",
   "metadata": {},
   "source": [
    "---\n",
    "## **3. Exploración del Dataset**\n",
    "\n",
    "Procedemos a leer la información obtenida de nuestro dataset, de tal forma que nos encontramos con las columnas `image1_image2` y `label` que contienen el identificador de ambas imágenes a comparar y `label` para indicar si provienen del mismo rostro ó de distintos."
   ]
  },
  {
   "cell_type": "code",
   "execution_count": 23,
   "id": "30b89e2a-1284-472c-b431-3205e5cfe532",
   "metadata": {},
   "outputs": [
    {
     "name": "stdout",
     "output_type": "stream",
     "text": [
      "> Train data before image splitting and label encoder\n",
      "  image1_image2 label\n",
      "0     1485_4047  diff\n",
      "1     5335_6055  same\n",
      "2    10796_3696  same\n",
      "3    11991_6672  same\n",
      "4     7003_2539  same\n",
      "\n",
      "> Test data before image splitting and label encoder\n",
      "  image1_image2\n",
      "0     6874_1599\n",
      "1   11365_12931\n",
      "2    10132_4581\n",
      "3    4706_12001\n",
      "4     3350_8318\n"
     ]
    }
   ],
   "source": [
    "train_df = pd.read_csv(\"train.csv\")\n",
    "test_df = pd.read_csv(\"test.csv\")\n",
    "\n",
    "print('> Train data before image splitting and label encoder');\n",
    "print(train_df.head())\n",
    "\n",
    "print('\\n> Test data before image splitting and label encoder');\n",
    "print(test_df.head())"
   ]
  },
  {
   "cell_type": "markdown",
   "id": "5d173aa7-f7cd-4b19-8132-8977b92097d7",
   "metadata": {},
   "source": [
    "Ahora notamos que nos conviene separar `image1_image2` en dos columnas distintas, de tal forma que podamos actuar con ellas de manera independiente, además de modificar el `label` para adoptar una tecnología de codificación, tal que para `diff` usemos $0$ y para `same` el valor de $1$ representando diferencia e igualdad respectivamente.   "
   ]
  },
  {
   "cell_type": "code",
   "execution_count": 25,
   "id": "1dcc3a5e-f741-4da0-9f18-bb4397128f56",
   "metadata": {},
   "outputs": [],
   "source": [
    "train_df = pd.read_csv(\"train.csv\")\n",
    "test_df = pd.read_csv(\"test.csv\")\n",
    "\n",
    "train_df[['image1', 'image2']] = train_df['image1_image2'].str.split('_', expand = True)\n",
    "test_df[['image1', 'image2']] = test_df['image1_image2'].str.split('_', expand = True)\n",
    "\n",
    "train_df.drop(columns = ['image1_image2'], inplace = True)\n",
    "test_df.drop(columns = ['image1_image2'], inplace = True)\n",
    "\n",
    "train_df = train_df[['image1', 'image2', 'label']]\n",
    "train_df['label'] = pd.factorize(train_df['label'])[0]"
   ]
  },
  {
   "cell_type": "code",
   "execution_count": 37,
   "id": "08c75a00-2927-46f7-ac9e-dac52e02131c",
   "metadata": {},
   "outputs": [
    {
     "name": "stdout",
     "output_type": "stream",
     "text": [
      "> Train data before image splitting and label encoder\n",
      "  image1 image2  label\n",
      "0   1485   4047      0\n",
      "1   5335   6055      1\n",
      "2  10796   3696      1\n",
      "3  11991   6672      1\n",
      "4   7003   2539      1\n",
      "\n",
      "> Test data before image splitting and label encoder\n",
      "  image1 image2\n",
      "0   6874   1599\n",
      "1  11365  12931\n",
      "2  10132   4581\n",
      "3   4706  12001\n",
      "4   3350   8318\n"
     ]
    }
   ],
   "source": [
    "print('> Train data before image splitting and label encoder');\n",
    "print(train_df.head())\n",
    "\n",
    "print('\\n> Test data before image splitting and label encoder');\n",
    "print(test_df.head())"
   ]
  },
  {
   "cell_type": "markdown",
   "id": "de9372d4-540a-41e6-98e8-04b15a1b61d7",
   "metadata": {},
   "source": [
    "Ahora vamos a indagar más a fondo en nuestro dataset para hallar métricas útiles en nuestra implementación, a pesar que contamos con pocos datos disponibles. Es así entonces que nuestro dataset de entrenamiento cuenta con $1100$ entradas para un label $0$ y $1$ mostrando un porcentaje balanceado dado pues que el dataset en total contiene $2200$ entradas. "
   ]
  },
  {
   "cell_type": "code",
   "execution_count": 53,
   "id": "62c6b3dc-e015-42fc-b0c2-a2e66c92216b",
   "metadata": {},
   "outputs": [
    {
     "name": "stdout",
     "output_type": "stream",
     "text": [
      "\n",
      "> Train data shape: (2200, 3)\n",
      "> Test data shape: (2200, 3)\n",
      "\n",
      "> Train data labels with 0: 1100\n",
      "> Train data labels with 1: 1100\n",
      "\n",
      "> Train data null values: 0\n",
      "> Test data null values: 0\n"
     ]
    }
   ],
   "source": [
    "print(f'\\n> Train data shape: {train_df.shape}')\n",
    "print(f'> Test data shape: {train_df.shape}')\n",
    "\n",
    "print('\\n> Train data labels with 0:', train_df['label'].value_counts()[0])\n",
    "print('> Train data labels with 1:', train_df['label'].value_counts()[1])\n",
    "\n",
    "print('\\n> Train data null values:', train_df.isnull().sum().sum())\n",
    "print('> Test data null values:', test_df.isnull().sum().sum())"
   ]
  },
  {
   "cell_type": "markdown",
   "id": "ea8c1b39-0645-48e7-9ed2-051fe96a48ac",
   "metadata": {},
   "source": [
    "Por último, se procede a brindar un claro ejemplo de cómo se vería nuestra función de tratamiento de imágenes generales `ImageHandler()` cargando dos imágenes de nuestra base de datos en un caso donde existe similitud dado por el identificado $1347$. Para este caso nuestra imagen tiene un tamaño de `64x64` con $3$ canales."
   ]
  },
  {
   "cell_type": "code",
   "execution_count": 59,
   "id": "23b0e76c-103f-48c0-a149-25dabfc43cd7",
   "metadata": {},
   "outputs": [
    {
     "data": {
      "image/png": "[encoded data removed]",
      "text/plain": [
       "<Figure size 600x600 with 2 Axes>"
      ]
     },
     "metadata": {},
     "output_type": "display_data"
    },
    {
     "data": {
      "text/plain": [
       "(64, 64, 3)"
      ]
     },
     "execution_count": 59,
     "metadata": {},
     "output_type": "execute_result"
    }
   ],
   "source": [
    "ih = ImageHandler()\n",
    "\n",
    "im1 = ih.load_img(train_df['image1'][1347])\n",
    "im2 = ih.load_img(train_df['image2'][1347])\n",
    "\n",
    "ih.plot_imgs(np.array([im1, im2]))\n",
    "np.array(im1).shape"
   ]
  },
  {
   "cell_type": "markdown",
   "id": "f21e46f0-a930-4e81-950e-64dc1f9dbe74",
   "metadata": {},
   "source": [
    "---\n",
    "## **Modelo 1: Siamese CNN**"
   ]
  },
  {
   "cell_type": "markdown",
   "id": "f23d9cfc-8b82-4a33-8364-e1aad4e9cec5",
   "metadata": {},
   "source": [
    "### Data Loader for Siamese CNN\n",
    "\n",
    "Debido a que la Red Neuronal Convolucional requiere de 2 entradas de imagenes para validar si corresponden a la misma persona o no, requerimos de un Dataset personalizado, donde la entrada consista en 2 imagenes y un label. Es por esto que creamos la clase `TwoImageDataset` a partir de la clase `Dataset` de pytorch, la cual puede obtener todos los pares de imágenes y cargarlos de dos en dos junto con el label que nos indican si son la misma persona o no."
   ]
  },
  {
   "cell_type": "code",
   "execution_count": null,
   "id": "c73a3927-a3f0-4bbf-9241-202a34fa3075",
   "metadata": {},
   "outputs": [],
   "source": [
    "class TwoImageDataset(Dataset):\n",
    "    def __init__(self, df, transform=None, is_test=False):\n",
    "        self.df = df\n",
    "        self.transform = transform\n",
    "        self.is_test = is_test\n",
    "\n",
    "    def __len__(self):\n",
    "        return len(self.df)\n",
    "\n",
    "    def __getitem__(self, idx):\n",
    "        img1_id = self.df.iloc[idx, 0]\n",
    "        img2_id = self.df.iloc[idx, 1]\n",
    "\n",
    "        img1 = load_img(img1_id).convert('RGB')\n",
    "        img2 = load_img(img2_id).convert('RGB')\n",
    "        \n",
    "        if self.transform:\n",
    "            img1 = self.transform(img1)\n",
    "            img2 = self.transform(img2)\n",
    "\n",
    "        if self.is_test:\n",
    "            return img1, img2\n",
    "            \n",
    "        label = self.df.iloc[idx, 2]\n",
    "        return img1, img2, torch.tensor(label, dtype=torch.float32)"
   ]
  },
  {
   "cell_type": "code",
   "execution_count": null,
   "id": "0d03f367-cf4d-4f98-883f-01c21b1a8659",
   "metadata": {},
   "outputs": [],
   "source": [
    "batch_size = 64\n",
    "transform = transforms.Compose([\n",
    "    transforms.ToTensor(),  # Convert the image to a PyTorch tensor\n",
    "    # transforms.Normalize(mean=[0.485, 0.456, 0.406], std=[0.229, 0.224, 0.225])  # Normalize with Image stats\n",
    "])\n",
    "\n",
    "# Train-Test split\n",
    "from sklearn.model_selection import train_test_split\n",
    "train_subset_df, val_subset_df = train_test_split(train_df, test_size=0.2, stratify=train_df['label'], random_state=42)\n",
    "\n",
    "# Initializing custom datasets\n",
    "train_dataset = TwoImageDataset(train_subset_df, transform=transform)\n",
    "val_dataset = TwoImageDataset(val_subset_df, transform=transform)\n",
    "test_dataset = TwoImageDataset(test_df, transform=transform, is_test=True)\n",
    "\n",
    "# Initialize the DataLoaders\n",
    "train_dataloader = DataLoader(train_dataset, batch_size=batch_size, shuffle=True)\n",
    "val_dataloader = DataLoader(val_dataset, batch_size=1, shuffle=False)\n",
    "test_dataloader = DataLoader(test_dataset, batch_size=1, shuffle=False)\n",
    "\n",
    "# Example to check the dataloader\n",
    "visualize_samples(train_dataloader, 4)"
   ]
  },
  {
   "cell_type": "code",
   "execution_count": null,
   "id": "7a795b46-7b05-47ef-bd7c-e3630e6ee111",
   "metadata": {},
   "outputs": [],
   "source": [
    "class SiameseCNN(nn.Module):\n",
    "    def __init__(self):\n",
    "        super(SiameseCNN, self).__init__()\n",
    "\n",
    "        # self.conv1 = nn.Sequential(\n",
    "        #     nn.Conv2d(3, 64, kernel_size=7, padding=3), #100\n",
    "        #     nn.ReLU(),\n",
    "        #     nn.Conv2d(64, 64, kernel_size=5, padding=2), #100\n",
    "        #     nn.ReLU(),\n",
    "        #     nn.Conv2d(64, 64, kernel_size=3, padding=1), #100\n",
    "        #     nn.ReLU(),\n",
    "        #     nn.MaxPool2d(kernel_size=2, stride=2), #50\n",
    "            \n",
    "        #     nn.Conv2d(64, 128, kernel_size=7, padding=3), #50\n",
    "        #     nn.ReLU(),\n",
    "        #     nn.Conv2d(128, 128, kernel_size=5, padding=2), #50\n",
    "        #     nn.BatchNorm2d(128),\n",
    "        #     nn.ReLU(),\n",
    "        #     nn.Conv2d(128, 128, kernel_size=3, padding=1), #50\n",
    "        #     nn.ReLU(),\n",
    "        #     nn.MaxPool2d(kernel_size=2, stride=2), #25\n",
    "\n",
    "        #     nn.Dropout(0.1),\n",
    "            \n",
    "        #     nn.Conv2d(128, 256, kernel_size=3, padding=1), #25\n",
    "        #     nn.BatchNorm2d(256),\n",
    "        #     nn.ReLU(),\n",
    "        #     nn.Conv2d(256, 256, kernel_size=3, padding=1), #25\n",
    "        #     nn.ReLU(),\n",
    "        #     nn.MaxPool2d(kernel_size=2, stride=2), #12\n",
    "\n",
    "        #     nn.Dropout(0.1),\n",
    "            \n",
    "        #     nn.Conv2d(256, 512, kernel_size=3, padding=1), #12\n",
    "        #     nn.ReLU(),\n",
    "        #     nn.Conv2d(512, 512, kernel_size=3, padding=1), #12\n",
    "        #     nn.ReLU(),\n",
    "        #     nn.MaxPool2d(kernel_size=2, stride=2), #6\n",
    "            \n",
    "        #     nn.Dropout(0.1),\n",
    "        # )\n",
    "\n",
    "        from torchvision import models\n",
    "        alexnet = models.alexnet(weights=models.AlexNet_Weights.IMAGENET1K_V1)\n",
    "        self.conv1 = nn.Sequential(*list(alexnet.children())[:-1])\n",
    "\n",
    "        self.fc = nn.Sequential(\n",
    "            nn.Linear(256*6*6 * 2, 512),\n",
    "            nn.BatchNorm1d(512),\n",
    "            nn.ReLU(),\n",
    "            nn.Dropout(0.20),\n",
    "            nn.Linear(512, 128),\n",
    "            nn.BatchNorm1d(128),\n",
    "            nn.ReLU(),\n",
    "            nn.Dropout(0.20),\n",
    "            nn.Linear(128, 1),\n",
    "            nn.Sigmoid()\n",
    "        )\n",
    "\n",
    "    def forward_once(self, x):\n",
    "        x = self.conv1(x)\n",
    "        x = x.view(x.size(0), -1)\n",
    "        return x\n",
    "\n",
    "    def forward(self, img1, img2):\n",
    "        out1 = self.forward_once(img1)\n",
    "        out2 = self.forward_once(img2)\n",
    "        # print(out1.shape)\n",
    "        \n",
    "        concat = torch.cat((out1, out2), 1)\n",
    "        # print(concat.shape)\n",
    "        \n",
    "        output = self.fc(concat)\n",
    "        output = torch.flatten(output)\n",
    "        # print(output)\n",
    "        return output\n",
    "\n",
    "    def train_cnn(self, train_loader, loss_fn, optimizer, scheduler=None, num_epochs=5):\n",
    "        total_step = len(train_loader)\n",
    "        list_loss = []\n",
    "        for epoch in range(num_epochs):\n",
    "            model.train()\n",
    "            for i, (images1, images2, labels) in enumerate(train_loader):\n",
    "                images1 = images1.to(device)\n",
    "                images2 = images2.to(device)\n",
    "                labels = labels.to(device)\n",
    "    \n",
    "                output = self(images1, images2)\n",
    "                loss = loss_fn(output, labels)\n",
    "    \n",
    "                optimizer.zero_grad()\n",
    "                loss.backward()\n",
    "                optimizer.step()\n",
    "    \n",
    "                list_loss.append(loss.item())\n",
    "                i += 1\n",
    "    \n",
    "                if (i + 1) % 10 == 0:\n",
    "                    print('Epoch [{}/{}], Step [{}/{}], Loss: {}'\n",
    "                          .format(epoch + 1, num_epochs, i + 1, total_step, loss.item()))\n",
    "\n",
    "            if scheduler:\n",
    "                scheduler.step()\n",
    "    \n",
    "        print('Finished Training Trainset')\n",
    "        return list_loss\n",
    "    \n",
    "    def predict(self, dataloader, with_labels=False):\n",
    "        y_pred = []\n",
    "        model.eval()\n",
    "        with torch.no_grad():\n",
    "            if not with_labels:\n",
    "                for image1, image2 in dataloader:\n",
    "                    image1, image2 = image1.to(device), image2.to(device)\n",
    "                    output = self(image1, image2)\n",
    "                    output = output.cpu()\n",
    "                    pred = torch.round(output)\n",
    "                    y_pred.append(int(pred.item()))\n",
    "            else:\n",
    "                for image1, image2, _ in dataloader:\n",
    "                    image1, image2 = image1.to(device), image2.to(device)\n",
    "                    output = self(image1, image2)\n",
    "                    output = output.cpu()\n",
    "                    pred = torch.round(output)\n",
    "                    y_pred.append(int(pred.item()))\n",
    "            return y_pred"
   ]
  },
  {
   "cell_type": "code",
   "execution_count": null,
   "id": "f62cbf37-9b39-486a-a5bf-776b44cc634f",
   "metadata": {},
   "outputs": [],
   "source": [
    "learning_rate = 0.0001\n",
    "model = SiameseCNN().to(device)\n",
    "loss_fn = nn.BCELoss()\n",
    "optimizer = torch.optim.Adam(model.parameters(), lr=learning_rate, weight_decay=1e-5)\n",
    "# optimizer = torch.optim.Adadelta(model.parameters(), lr=learning_rate)\n",
    "scheduler = StepLR(optimizer=optimizer, step_size=2, gamma=0.1)"
   ]
  },
  {
   "cell_type": "code",
   "execution_count": null,
   "id": "4aa37229-4d03-44b3-9485-f7f9e12bbf10",
   "metadata": {
    "scrolled": true
   },
   "outputs": [],
   "source": [
    "torch.cuda.empty_cache()\n",
    "epochs = 24\n",
    "list_loss = model.train_cnn(train_dataloader, loss_fn, optimizer, scheduler=scheduler, num_epochs=epochs)"
   ]
  },
  {
   "cell_type": "code",
   "execution_count": null,
   "id": "610cfd30-4d4c-4f71-9667-a10036384c20",
   "metadata": {},
   "outputs": [],
   "source": [
    "# Plot the loss function\n",
    "plt.figure(figsize=(10, 5))\n",
    "plt.plot(list_loss, label='Training Loss', color='blue')\n",
    "plt.title('Training Loss Over Iterations')\n",
    "plt.xlabel('Iteration')\n",
    "plt.ylabel('Loss')\n",
    "plt.show()"
   ]
  },
  {
   "cell_type": "code",
   "execution_count": null,
   "id": "0c27b232-3738-4c6f-b310-cbccea39c7c5",
   "metadata": {},
   "outputs": [],
   "source": [
    "from sklearn.metrics import confusion_matrix, ConfusionMatrixDisplay, classification_report\n",
    "\n",
    "val_pred = model.predict(val_dataloader, with_labels=True)\n",
    "cm = confusion_matrix(val_subset_df['label'], val_pred, normalize='true')\n",
    "\n",
    "# Generate the classification report\n",
    "report = classification_report(val_subset_df['label'], val_pred)\n",
    "print(\"Classification Report:\")\n",
    "print(report)\n",
    "\n",
    "# Plot the confusion matrix\n",
    "disp = ConfusionMatrixDisplay(confusion_matrix=cm, display_labels=['different', 'same'])\n",
    "disp.plot(cmap=plt.cm.Blues)\n",
    "plt.title('Confusion Matrix')\n",
    "plt.show()"
   ]
  },
  {
   "cell_type": "code",
   "execution_count": null,
   "id": "ee994141-4cac-46d0-ad86-2c06e77933cd",
   "metadata": {},
   "outputs": [],
   "source": [
    "test_values = model.predict(test_dataloader)\n",
    "print(np.unique(test_values))"
   ]
  },
  {
   "cell_type": "markdown",
   "id": "487e3687-8dd5-4441-b3fa-3e0c8e9266e8",
   "metadata": {},
   "source": [
    "## Modelo 2: ??"
   ]
  },
  {
   "cell_type": "code",
   "execution_count": null,
   "id": "d8971064-7793-4ada-bb61-b2f2c35dcc9d",
   "metadata": {},
   "outputs": [],
   "source": []
  },
  {
   "cell_type": "code",
   "execution_count": null,
   "id": "1bc356d6-a72e-4c2b-8dd8-9b72a879c6a9",
   "metadata": {},
   "outputs": [],
   "source": []
  },
  {
   "cell_type": "markdown",
   "id": "07deeca8-e413-46c2-b9c3-3af5db034c84",
   "metadata": {},
   "source": [
    "## Experimentación"
   ]
  },
  {
   "cell_type": "code",
   "execution_count": null,
   "id": "b4532d27-a746-452d-b662-d229d5f86d61",
   "metadata": {},
   "outputs": [],
   "source": []
  },
  {
   "cell_type": "markdown",
   "id": "5187af80-677b-4ad9-9d55-aa7dea0e6de9",
   "metadata": {},
   "source": [
    "## Testing"
   ]
  },
  {
   "cell_type": "code",
   "execution_count": null,
   "id": "53d370e1-1f45-41ea-b455-3289c71451e1",
   "metadata": {},
   "outputs": [],
   "source": []
  }
 ],
 "metadata": {
  "kernelspec": {
   "display_name": "Python 3 (ipykernel)",
   "language": "python",
   "name": "python3"
  },
  "language_info": {
   "codemirror_mode": {
    "name": "ipython",
    "version": 3
   },
   "file_extension": ".py",
   "mimetype": "text/x-python",
   "name": "python",
   "nbconvert_exporter": "python",
   "pygments_lexer": "ipython3",
   "version": "3.12.4"
  }
 },
 "nbformat": 4,
 "nbformat_minor": 5
}
