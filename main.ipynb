{
 "cells": [
  {
   "cell_type": "markdown",
   "id": "78b86c8a-5af2-47c6-9959-0fc946972304",
   "metadata": {},
   "source": [
    "# Proyecto 4: Faces in The Wild\n",
    "\n",
    "**Integrantes**:\n",
    "- Lucas Carranza\n",
    "- David Herencia\n",
    "- Kalos Lazo\n",
    "- Lenin Chavez"
   ]
  },
  {
   "cell_type": "code",
   "execution_count": 1,
   "id": "6485e51d-0459-4c97-b926-20febde9289c",
   "metadata": {},
   "outputs": [],
   "source": [
    "import numpy as np\n",
    "import pandas as pd\n",
    "import matplotlib.pyplot as plt\n",
    "import math\n",
    "from PIL import Image\n",
    "\n",
    "import torch\n",
    "import torch.nn as nn\n",
    "import torch.optim as optim\n",
    "from torch.optim.lr_scheduler import StepLR\n",
    "from torch.utils.data import Dataset, DataLoader, random_split, SubsetRandomSampler"
   ]
  },
  {
   "cell_type": "code",
   "execution_count": 2,
   "id": "9446caa6-c17a-4732-8905-35403d8a3159",
   "metadata": {},
   "outputs": [
    {
     "name": "stdout",
     "output_type": "stream",
     "text": [
      "using device: cuda:0\n"
     ]
    }
   ],
   "source": [
    "device = torch.device('cuda:0' if torch.cuda.is_available() else 'cpu')\n",
    "print(f\"using device: {device}\")"
   ]
  },
  {
   "cell_type": "markdown",
   "id": "588c1144-a810-4e4f-ad1f-4d3d183b81a6",
   "metadata": {},
   "source": [
    "## Exploración del Dataset"
   ]
  },
  {
   "cell_type": "code",
   "execution_count": 3,
   "id": "30b89e2a-1284-472c-b431-3205e5cfe532",
   "metadata": {},
   "outputs": [],
   "source": [
    "import os, glob"
   ]
  },
  {
   "cell_type": "code",
   "execution_count": 4,
   "id": "8aa89797-017b-4c0a-9acb-9ec22f0576f8",
   "metadata": {},
   "outputs": [],
   "source": [
    "def plot_imgs(imgs, size=3):\n",
    "    img_number = imgs.shape[0]\n",
    "    rows = cols = math.ceil(np.sqrt(img_number))\n",
    "    fig = plt.figure(figsize=(rows*size, cols*size))\n",
    "    for i in range(img_number):\n",
    "        fig.add_subplot(rows, cols, i+1)\n",
    "        plt.imshow(imgs[i].detach(), cmap='gray')\n",
    "        plt.axis('off')\n",
    "    plt.show()"
   ]
  },
  {
   "cell_type": "markdown",
   "id": "f21e46f0-a930-4e81-950e-64dc1f9dbe74",
   "metadata": {},
   "source": [
    "## Modelo 1: CNN"
   ]
  },
  {
   "cell_type": "code",
   "execution_count": null,
   "id": "0d03f367-cf4d-4f98-883f-01c21b1a8659",
   "metadata": {},
   "outputs": [],
   "source": []
  },
  {
   "cell_type": "code",
   "execution_count": null,
   "id": "7a795b46-7b05-47ef-bd7c-e3630e6ee111",
   "metadata": {},
   "outputs": [],
   "source": []
  },
  {
   "cell_type": "markdown",
   "id": "487e3687-8dd5-4441-b3fa-3e0c8e9266e8",
   "metadata": {},
   "source": [
    "## Modelo 2: ??"
   ]
  },
  {
   "cell_type": "code",
   "execution_count": null,
   "id": "d8971064-7793-4ada-bb61-b2f2c35dcc9d",
   "metadata": {},
   "outputs": [],
   "source": []
  },
  {
   "cell_type": "code",
   "execution_count": null,
   "id": "1bc356d6-a72e-4c2b-8dd8-9b72a879c6a9",
   "metadata": {},
   "outputs": [],
   "source": []
  },
  {
   "cell_type": "markdown",
   "id": "07deeca8-e413-46c2-b9c3-3af5db034c84",
   "metadata": {},
   "source": [
    "## Experimentación"
   ]
  },
  {
   "cell_type": "code",
   "execution_count": null,
   "id": "b4532d27-a746-452d-b662-d229d5f86d61",
   "metadata": {},
   "outputs": [],
   "source": []
  },
  {
   "cell_type": "markdown",
   "id": "5187af80-677b-4ad9-9d55-aa7dea0e6de9",
   "metadata": {},
   "source": [
    "## Testing"
   ]
  },
  {
   "cell_type": "code",
   "execution_count": null,
   "id": "53d370e1-1f45-41ea-b455-3289c71451e1",
   "metadata": {},
   "outputs": [],
   "source": []
  }
 ],
 "metadata": {
  "kernelspec": {
   "display_name": "Python 3 (ipykernel)",
   "language": "python",
   "name": "python3"
  },
  "language_info": {
   "codemirror_mode": {
    "name": "ipython",
    "version": 3
   },
   "file_extension": ".py",
   "mimetype": "text/x-python",
   "name": "python",
   "nbconvert_exporter": "python",
   "pygments_lexer": "ipython3",
   "version": "3.12.4"
  }
 },
 "nbformat": 4,
 "nbformat_minor": 5
}
